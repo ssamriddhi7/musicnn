{
 "cells": [
  {
   "cell_type": "code",
   "execution_count": 1,
   "id": "5cff4673",
   "metadata": {},
   "outputs": [],
   "source": [
    "file_name = './audio/joram-moments_of_clarity-08-solipsism-59-88.mp3'"
   ]
  },
  {
   "cell_type": "code",
   "execution_count": null,
   "id": "228270de",
   "metadata": {},
   "outputs": [],
   "source": []
  }
 ],
 "metadata": {
  "kernelspec": {
   "display_name": "Python 3 (ipykernel)",
   "language": "python",
   "name": "python3"
  },
  "language_info": {
   "codemirror_mode": {
    "name": "ipython",
    "version": 3
   },
   "file_extension": ".py",
   "mimetype": "text/x-python",
   "name": "python",
   "nbconvert_exporter": "python",
   "pygments_lexer": "ipython3",
   "version": "3.9.13"
  }
 },
 "nbformat": 4,
 "nbformat_minor": 5
}
